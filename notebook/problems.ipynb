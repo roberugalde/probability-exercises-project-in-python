{
 "cells": [
  {
   "cell_type": "markdown",
   "id": "a41f3622",
   "metadata": {},
   "source": [
    "# Probability exercises"
   ]
  },
  {
   "cell_type": "markdown",
   "id": "a6bdbd89",
   "metadata": {},
   "source": [
    "## Exercise 1 \n",
    "\n",
    "Two dices are thrown once and the total score is observed. Use a simulation to find the estimated probability that the total score is even or greater than 7.  A simulation is a repetition of the same experiment multiple times to observe its behavior:\n",
    "\n",
    "- Run the experiment 1000 times (roll 2 dice 1000 times, and sum the number of both dices).\n",
    "- Keep track of the number of times that the sum was either greater than 7 or an even number.\n",
    "- Divide the number from step 2 by the number of iterations (1000)."
   ]
  },
  {
   "cell_type": "code",
   "execution_count": 1,
   "id": "8939d892",
   "metadata": {},
   "outputs": [
    {
     "name": "stdout",
     "output_type": "stream",
     "text": [
      "Estimated Probability: 0.6570\n"
     ]
    }
   ],
   "source": [
    "import random\n",
    "\n",
    "# Simulation parameters\n",
    "iterations = 1000\n",
    "success_count = 0\n",
    "\n",
    "# Run the simulation\n",
    "for _ in range(iterations):\n",
    "    dice1 = random.randint(1, 6)  # Roll the first die\n",
    "    dice2 = random.randint(1, 6)  # Roll the second die\n",
    "    total = dice1 + dice2         # Calculate the total score\n",
    "\n",
    "    # Check if the total is even or greater than 7\n",
    "    if total % 2 == 0 or total > 7:\n",
    "        success_count += 1\n",
    "\n",
    "# Calculate the estimated probability\n",
    "estimated_probability = success_count / iterations\n",
    "\n",
    "# Print the result\n",
    "print(f\"Estimated Probability: {estimated_probability:.4f}\")\n"
   ]
  },
  {
   "cell_type": "markdown",
   "id": "55732bca",
   "metadata": {},
   "source": [
    "## Exercise 2\n",
    "\n",
    "A box contains 10 white balls, 20 red balls and 30 green balls. If we take 5 balls from the box with replacement (we take the ball, observe what color it is and put it back into the box). We want to know the probability of:\n",
    "\n",
    "1. Take 3 white and 2 red.\n",
    "2. Take all of the same color.\n",
    "\n",
    "Run the experiment 1000 times and calculate the above probabilities."
   ]
  },
  {
   "cell_type": "code",
   "execution_count": 2,
   "id": "23244d20",
   "metadata": {},
   "outputs": [
    {
     "name": "stdout",
     "output_type": "stream",
     "text": [
      "Probability of 3 white and 2 red: 0.0030\n",
      "Probability of all balls being the same color: 0.0260\n"
     ]
    }
   ],
   "source": [
    "\n",
    "import random\n",
    "\n",
    "# Ball probabilities\n",
    "white_prob = 10 / 60\n",
    "red_prob = 20 / 60\n",
    "green_prob = 30 / 60\n",
    "\n",
    "# Simulation parameters\n",
    "iterations = 1000\n",
    "white_and_red_count = 0\n",
    "same_color_count = 0\n",
    "\n",
    "# Run the simulation\n",
    "for _ in range(iterations):\n",
    "    draw = [random.choices(['white', 'red', 'green'], weights=[white_prob, red_prob, green_prob])[0] for _ in range(5)]\n",
    "\n",
    "    # Check if 3 white and 2 red were drawn\n",
    "    if draw.count('white') == 3 and draw.count('red') == 2:\n",
    "        white_and_red_count += 1\n",
    "\n",
    "    # Check if all balls are of the same color\n",
    "    if len(set(draw)) == 1:\n",
    "        same_color_count += 1\n",
    "\n",
    "# Calculate probabilities\n",
    "prob_white_and_red = white_and_red_count / iterations\n",
    "prob_same_color = same_color_count / iterations\n",
    "\n",
    "# Print results\n",
    "print(f\"Probability of 3 white and 2 red: {prob_white_and_red:.4f}\")\n",
    "print(f\"Probability of all balls being the same color: {prob_same_color:.4f}\")\n",
    "\n"
   ]
  }
 ],
 "metadata": {
  "kernelspec": {
   "display_name": "Python 3",
   "language": "python",
   "name": "python3"
  },
  "language_info": {
   "codemirror_mode": {
    "name": "ipython",
    "version": 3
   },
   "file_extension": ".py",
   "mimetype": "text/x-python",
   "name": "python",
   "nbconvert_exporter": "python",
   "pygments_lexer": "ipython3",
   "version": "3.11.4"
  }
 },
 "nbformat": 4,
 "nbformat_minor": 5
}
